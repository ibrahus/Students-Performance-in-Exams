{
  "nbformat": 4,
  "nbformat_minor": 0,
  "metadata": {
    "colab": {
      "name": "Students Performance in Exams.ipynb",
      "provenance": []
    },
    "kernelspec": {
      "name": "python3",
      "display_name": "Python 3"
    }
  },
  "cells": [
    {
      "cell_type": "code",
      "metadata": {
        "id": "nRgO6VSpM-Oh"
      },
      "source": [
        "# import required librarys\n",
        "import pandas as pd\n",
        "import numpy as np\n",
        "import seaborn as sns\n",
        "import matplotlib.pyplot as plt\n",
        "%matplotlib inline"
      ],
      "execution_count": null,
      "outputs": []
    },
    {
      "cell_type": "markdown",
      "metadata": {
        "id": "Xrz-gj6QQnRh"
      },
      "source": [
        "# Load the dataset and show its properties"
      ]
    },
    {
      "cell_type": "code",
      "metadata": {
        "id": "-zjfr012N_7S"
      },
      "source": [
        "# read the dataset\n",
        "df = pd.read_csv('/content/StudentsPerformance.csv')"
      ],
      "execution_count": null,
      "outputs": []
    },
    {
      "cell_type": "code",
      "metadata": {
        "id": "lrDxOlfiOAZc"
      },
      "source": [
        "# replace white spaces with underscore in df columns\n",
        "df.columns = df.columns.str.replace(' ', '_')"
      ],
      "execution_count": null,
      "outputs": []
    },
    {
      "cell_type": "code",
      "metadata": {
        "colab": {
          "base_uri": "https://localhost:8080/"
        },
        "id": "rDTZotj0joNs",
        "outputId": "cc680861-4055-4f15-a6db-2ad84afa39dc"
      },
      "source": [
        "df.test_preparation_course.value_counts()"
      ],
      "execution_count": null,
      "outputs": [
        {
          "output_type": "execute_result",
          "data": {
            "text/plain": [
              "none         642\n",
              "completed    359\n",
              "Name: test_preparation_course, dtype: int64"
            ]
          },
          "metadata": {
            "tags": []
          },
          "execution_count": 1669
        }
      ]
    },
    {
      "cell_type": "code",
      "metadata": {
        "colab": {
          "base_uri": "https://localhost:8080/"
        },
        "id": "nnIiKLbDOAsR",
        "outputId": "bfd74b8d-5a93-47bf-bf5d-b0504df4a54f"
      },
      "source": [
        "# show df properties\n",
        "df.info()"
      ],
      "execution_count": null,
      "outputs": [
        {
          "output_type": "stream",
          "text": [
            "<class 'pandas.core.frame.DataFrame'>\n",
            "RangeIndex: 1001 entries, 0 to 1000\n",
            "Data columns (total 8 columns):\n",
            " #   Column                       Non-Null Count  Dtype \n",
            "---  ------                       --------------  ----- \n",
            " 0   gender                       1000 non-null   object\n",
            " 1   race/ethnicity               1000 non-null   object\n",
            " 2   parental_level_of_education  1001 non-null   object\n",
            " 3   lunch                        1001 non-null   object\n",
            " 4   test_preparation_course      1001 non-null   object\n",
            " 5   math_score                   1001 non-null   int64 \n",
            " 6   reading_score                1001 non-null   int64 \n",
            " 7   writing_score                1001 non-null   int64 \n",
            "dtypes: int64(3), object(5)\n",
            "memory usage: 62.7+ KB\n"
          ],
          "name": "stdout"
        }
      ]
    },
    {
      "cell_type": "markdown",
      "metadata": {
        "id": "Ahp37RNhPeSd"
      },
      "source": [
        "There are 8 columns and 1001 rows."
      ]
    },
    {
      "cell_type": "markdown",
      "metadata": {
        "id": "n30xV6y8PefF"
      },
      "source": [
        "# Data Cleaning"
      ]
    },
    {
      "cell_type": "code",
      "metadata": {
        "colab": {
          "base_uri": "https://localhost:8080/"
        },
        "id": "ouh_Qg5bARWx",
        "outputId": "9c05ca12-ce0b-4012-f3ca-0eb4a67b45f3"
      },
      "source": [
        "# number of duplicate in dataset\n",
        "df.duplicated().sum()"
      ],
      "execution_count": null,
      "outputs": [
        {
          "output_type": "execute_result",
          "data": {
            "text/plain": [
              "1"
            ]
          },
          "metadata": {
            "tags": []
          },
          "execution_count": 1671
        }
      ]
    },
    {
      "cell_type": "code",
      "metadata": {
        "id": "L-27Ku7UQ0Pu"
      },
      "source": [
        "# remove duplicate\n",
        "df.drop_duplicates(inplace=True)"
      ],
      "execution_count": null,
      "outputs": []
    },
    {
      "cell_type": "code",
      "metadata": {
        "colab": {
          "base_uri": "https://localhost:8080/"
        },
        "id": "YSaABxEI36U2",
        "outputId": "68a86b7f-dcb3-42d3-eead-a7ef4ee09586"
      },
      "source": [
        "df.columns"
      ],
      "execution_count": null,
      "outputs": [
        {
          "output_type": "execute_result",
          "data": {
            "text/plain": [
              "Index(['gender', 'race/ethnicity', 'parental_level_of_education', 'lunch',\n",
              "       'test_preparation_course', 'math_score', 'reading_score',\n",
              "       'writing_score'],\n",
              "      dtype='object')"
            ]
          },
          "metadata": {
            "tags": []
          },
          "execution_count": 1673
        }
      ]
    },
    {
      "cell_type": "code",
      "metadata": {
        "colab": {
          "base_uri": "https://localhost:8080/"
        },
        "id": "O7QKon6pQ0WM",
        "outputId": "33ae3833-e1c9-46ac-f84d-b0f44cfe1d34"
      },
      "source": [
        "# fix missing data\n",
        "df.isna().sum()"
      ],
      "execution_count": null,
      "outputs": [
        {
          "output_type": "execute_result",
          "data": {
            "text/plain": [
              "gender                         1\n",
              "race/ethnicity                 1\n",
              "parental_level_of_education    0\n",
              "lunch                          0\n",
              "test_preparation_course        0\n",
              "math_score                     0\n",
              "reading_score                  0\n",
              "writing_score                  0\n",
              "dtype: int64"
            ]
          },
          "metadata": {
            "tags": []
          },
          "execution_count": 1674
        }
      ]
    },
    {
      "cell_type": "markdown",
      "metadata": {
        "id": "pGcacJJoQ0bS"
      },
      "source": [
        "we have two rows with missing data in gender and race/ethnicity columns\n",
        "\n"
      ]
    },
    {
      "cell_type": "code",
      "metadata": {
        "colab": {
          "base_uri": "https://localhost:8080/",
          "height": 126
        },
        "id": "k_zMfsBiQ0fr",
        "outputId": "8bbe2a1e-746d-4b19-9e77-42b9036f814f"
      },
      "source": [
        "# show rows with missing data\n",
        "df[df.isna().any(axis=1)]"
      ],
      "execution_count": null,
      "outputs": [
        {
          "output_type": "execute_result",
          "data": {
            "text/html": [
              "<div>\n",
              "<style scoped>\n",
              "    .dataframe tbody tr th:only-of-type {\n",
              "        vertical-align: middle;\n",
              "    }\n",
              "\n",
              "    .dataframe tbody tr th {\n",
              "        vertical-align: top;\n",
              "    }\n",
              "\n",
              "    .dataframe thead th {\n",
              "        text-align: right;\n",
              "    }\n",
              "</style>\n",
              "<table border=\"1\" class=\"dataframe\">\n",
              "  <thead>\n",
              "    <tr style=\"text-align: right;\">\n",
              "      <th></th>\n",
              "      <th>gender</th>\n",
              "      <th>race/ethnicity</th>\n",
              "      <th>parental_level_of_education</th>\n",
              "      <th>lunch</th>\n",
              "      <th>test_preparation_course</th>\n",
              "      <th>math_score</th>\n",
              "      <th>reading_score</th>\n",
              "      <th>writing_score</th>\n",
              "    </tr>\n",
              "  </thead>\n",
              "  <tbody>\n",
              "    <tr>\n",
              "      <th>8</th>\n",
              "      <td>NaN</td>\n",
              "      <td>group D</td>\n",
              "      <td>high school</td>\n",
              "      <td>free/reduced</td>\n",
              "      <td>completed</td>\n",
              "      <td>64</td>\n",
              "      <td>64</td>\n",
              "      <td>67</td>\n",
              "    </tr>\n",
              "    <tr>\n",
              "      <th>12</th>\n",
              "      <td>female</td>\n",
              "      <td>NaN</td>\n",
              "      <td>high school</td>\n",
              "      <td>standard</td>\n",
              "      <td>none</td>\n",
              "      <td>65</td>\n",
              "      <td>81</td>\n",
              "      <td>73</td>\n",
              "    </tr>\n",
              "  </tbody>\n",
              "</table>\n",
              "</div>"
            ],
            "text/plain": [
              "    gender race/ethnicity  ... reading_score writing_score\n",
              "8      NaN        group D  ...            64            67\n",
              "12  female            NaN  ...            81            73\n",
              "\n",
              "[2 rows x 8 columns]"
            ]
          },
          "metadata": {
            "tags": []
          },
          "execution_count": 1675
        }
      ]
    },
    {
      "cell_type": "markdown",
      "metadata": {
        "id": "PHhHXqo4Q0j1"
      },
      "source": [
        "I will drop the two rows with missing data"
      ]
    },
    {
      "cell_type": "code",
      "metadata": {
        "id": "KYWcCBVQPepE"
      },
      "source": [
        "# drop missing data\n",
        "df.dropna(inplace=True)"
      ],
      "execution_count": null,
      "outputs": []
    },
    {
      "cell_type": "markdown",
      "metadata": {
        "id": "NlBr8WG2exXo"
      },
      "source": [
        "# Provide descriptive statistics of the dataset and perform an\n",
        "#exploratory data analysis (EDA)\n"
      ]
    },
    {
      "cell_type": "code",
      "metadata": {
        "colab": {
          "base_uri": "https://localhost:8080/",
          "height": 284
        },
        "id": "xzuT5wauexd1",
        "outputId": "feeeae46-f767-426b-97f9-afea58b89c4a"
      },
      "source": [
        "# descriptive statistics of the dataset\n",
        "df.describe()"
      ],
      "execution_count": null,
      "outputs": [
        {
          "output_type": "execute_result",
          "data": {
            "text/html": [
              "<div>\n",
              "<style scoped>\n",
              "    .dataframe tbody tr th:only-of-type {\n",
              "        vertical-align: middle;\n",
              "    }\n",
              "\n",
              "    .dataframe tbody tr th {\n",
              "        vertical-align: top;\n",
              "    }\n",
              "\n",
              "    .dataframe thead th {\n",
              "        text-align: right;\n",
              "    }\n",
              "</style>\n",
              "<table border=\"1\" class=\"dataframe\">\n",
              "  <thead>\n",
              "    <tr style=\"text-align: right;\">\n",
              "      <th></th>\n",
              "      <th>math_score</th>\n",
              "      <th>reading_score</th>\n",
              "      <th>writing_score</th>\n",
              "    </tr>\n",
              "  </thead>\n",
              "  <tbody>\n",
              "    <tr>\n",
              "      <th>count</th>\n",
              "      <td>998.000000</td>\n",
              "      <td>998.000000</td>\n",
              "      <td>998.000000</td>\n",
              "    </tr>\n",
              "    <tr>\n",
              "      <th>mean</th>\n",
              "      <td>66.092184</td>\n",
              "      <td>69.162325</td>\n",
              "      <td>68.050100</td>\n",
              "    </tr>\n",
              "    <tr>\n",
              "      <th>std</th>\n",
              "      <td>15.178097</td>\n",
              "      <td>14.609106</td>\n",
              "      <td>15.210047</td>\n",
              "    </tr>\n",
              "    <tr>\n",
              "      <th>min</th>\n",
              "      <td>0.000000</td>\n",
              "      <td>17.000000</td>\n",
              "      <td>10.000000</td>\n",
              "    </tr>\n",
              "    <tr>\n",
              "      <th>25%</th>\n",
              "      <td>57.000000</td>\n",
              "      <td>59.000000</td>\n",
              "      <td>57.250000</td>\n",
              "    </tr>\n",
              "    <tr>\n",
              "      <th>50%</th>\n",
              "      <td>66.000000</td>\n",
              "      <td>70.000000</td>\n",
              "      <td>69.000000</td>\n",
              "    </tr>\n",
              "    <tr>\n",
              "      <th>75%</th>\n",
              "      <td>77.000000</td>\n",
              "      <td>79.000000</td>\n",
              "      <td>79.000000</td>\n",
              "    </tr>\n",
              "    <tr>\n",
              "      <th>max</th>\n",
              "      <td>100.000000</td>\n",
              "      <td>100.000000</td>\n",
              "      <td>100.000000</td>\n",
              "    </tr>\n",
              "  </tbody>\n",
              "</table>\n",
              "</div>"
            ],
            "text/plain": [
              "       math_score  reading_score  writing_score\n",
              "count  998.000000     998.000000     998.000000\n",
              "mean    66.092184      69.162325      68.050100\n",
              "std     15.178097      14.609106      15.210047\n",
              "min      0.000000      17.000000      10.000000\n",
              "25%     57.000000      59.000000      57.250000\n",
              "50%     66.000000      70.000000      69.000000\n",
              "75%     77.000000      79.000000      79.000000\n",
              "max    100.000000     100.000000     100.000000"
            ]
          },
          "metadata": {
            "tags": []
          },
          "execution_count": 1677
        }
      ]
    },
    {
      "cell_type": "markdown",
      "metadata": {
        "id": "C1Yg7WmO4qFM"
      },
      "source": [
        "### Compare students’ exam scores in different variables (math, reading, writing)\n"
      ]
    },
    {
      "cell_type": "code",
      "metadata": {
        "colab": {
          "base_uri": "https://localhost:8080/",
          "height": 286
        },
        "id": "YZBISBIGexih",
        "outputId": "ae6e90ff-b0d3-4077-948e-a30cb45ac6f1"
      },
      "source": [
        "# plot the df columns\n",
        "df.boxplot()"
      ],
      "execution_count": null,
      "outputs": [
        {
          "output_type": "execute_result",
          "data": {
            "text/plain": [
              "<matplotlib.axes._subplots.AxesSubplot at 0x7f2feac18c88>"
            ]
          },
          "metadata": {
            "tags": []
          },
          "execution_count": 1678
        },
        {
          "output_type": "display_data",
          "data": {
            "image/png": "[encoded data removed]",
            "text/plain": [
              "<Figure size 432x288 with 1 Axes>"
            ]
          },
          "metadata": {
            "tags": [],
            "needs_background": "light"
          }
        }
      ]
    },
    {
      "cell_type": "markdown",
      "metadata": {
        "id": "PyEFlgsbixwA"
      },
      "source": [
        "There is no outliers in the data\n"
      ]
    },
    {
      "cell_type": "code",
      "metadata": {
        "colab": {
          "base_uri": "https://localhost:8080/",
          "height": 718
        },
        "id": "ngiItAnLexm0",
        "outputId": "11ea997d-a563-485c-a5e5-45a7162f2c63"
      },
      "source": [
        "# finding the relations between the variables with heatmap\n",
        "plt.figure(figsize=(20,10))\n",
        "c= df.corr()\n",
        "sns.heatmap(c,annot=True)\n",
        "c"
      ],
      "execution_count": null,
      "outputs": [
        {
          "output_type": "execute_result",
          "data": {
            "text/html": [
              "<div>\n",
              "<style scoped>\n",
              "    .dataframe tbody tr th:only-of-type {\n",
              "        vertical-align: middle;\n",
              "    }\n",
              "\n",
              "    .dataframe tbody tr th {\n",
              "        vertical-align: top;\n",
              "    }\n",
              "\n",
              "    .dataframe thead th {\n",
              "        text-align: right;\n",
              "    }\n",
              "</style>\n",
              "<table border=\"1\" class=\"dataframe\">\n",
              "  <thead>\n",
              "    <tr style=\"text-align: right;\">\n",
              "      <th></th>\n",
              "      <th>math_score</th>\n",
              "      <th>reading_score</th>\n",
              "      <th>writing_score</th>\n",
              "    </tr>\n",
              "  </thead>\n",
              "  <tbody>\n",
              "    <tr>\n",
              "      <th>math_score</th>\n",
              "      <td>1.000000</td>\n",
              "      <td>0.817919</td>\n",
              "      <td>0.802710</td>\n",
              "    </tr>\n",
              "    <tr>\n",
              "      <th>reading_score</th>\n",
              "      <td>0.817919</td>\n",
              "      <td>1.000000</td>\n",
              "      <td>0.954736</td>\n",
              "    </tr>\n",
              "    <tr>\n",
              "      <th>writing_score</th>\n",
              "      <td>0.802710</td>\n",
              "      <td>0.954736</td>\n",
              "      <td>1.000000</td>\n",
              "    </tr>\n",
              "  </tbody>\n",
              "</table>\n",
              "</div>"
            ],
            "text/plain": [
              "               math_score  reading_score  writing_score\n",
              "math_score       1.000000       0.817919       0.802710\n",
              "reading_score    0.817919       1.000000       0.954736\n",
              "writing_score    0.802710       0.954736       1.000000"
            ]
          },
          "metadata": {
            "tags": []
          },
          "execution_count": 1679
        },
        {
          "output_type": "display_data",
          "data": {
            "image/png": "[encoded data removed]",
            "text/plain": [
              "<Figure size 1440x720 with 2 Axes>"
            ]
          },
          "metadata": {
            "tags": [],
            "needs_background": "light"
          }
        }
      ]
    },
    {
      "cell_type": "markdown",
      "metadata": {
        "id": "uuYsG_iD3Vsf"
      },
      "source": [
        "We can see that students’ exam scores are very much similer for the diffrent courses. Math has the lowest mean. Reading and writing have a strong postive correlation"
      ]
    },
    {
      "cell_type": "markdown",
      "metadata": {
        "id": "1d03byx_jj94"
      },
      "source": [
        "###Who performed better in different subjects male or female students?\n"
      ]
    },
    {
      "cell_type": "code",
      "metadata": {
        "colab": {
          "base_uri": "https://localhost:8080/",
          "height": 136
        },
        "id": "XiXJguokexq2",
        "outputId": "ef6d5f85-1946-428e-f924-8b2db37dfdf1"
      },
      "source": [
        "# male and female scores in different courses\n",
        "df.groupby(['gender']).mean()"
      ],
      "execution_count": null,
      "outputs": [
        {
          "output_type": "execute_result",
          "data": {
            "text/html": [
              "<div>\n",
              "<style scoped>\n",
              "    .dataframe tbody tr th:only-of-type {\n",
              "        vertical-align: middle;\n",
              "    }\n",
              "\n",
              "    .dataframe tbody tr th {\n",
              "        vertical-align: top;\n",
              "    }\n",
              "\n",
              "    .dataframe thead th {\n",
              "        text-align: right;\n",
              "    }\n",
              "</style>\n",
              "<table border=\"1\" class=\"dataframe\">\n",
              "  <thead>\n",
              "    <tr style=\"text-align: right;\">\n",
              "      <th></th>\n",
              "      <th>math_score</th>\n",
              "      <th>reading_score</th>\n",
              "      <th>writing_score</th>\n",
              "    </tr>\n",
              "    <tr>\n",
              "      <th>gender</th>\n",
              "      <th></th>\n",
              "      <th></th>\n",
              "      <th></th>\n",
              "    </tr>\n",
              "  </thead>\n",
              "  <tbody>\n",
              "    <tr>\n",
              "      <th>female</th>\n",
              "      <td>63.630561</td>\n",
              "      <td>72.591876</td>\n",
              "      <td>72.466151</td>\n",
              "    </tr>\n",
              "    <tr>\n",
              "      <th>male</th>\n",
              "      <td>68.738046</td>\n",
              "      <td>65.476091</td>\n",
              "      <td>63.303534</td>\n",
              "    </tr>\n",
              "  </tbody>\n",
              "</table>\n",
              "</div>"
            ],
            "text/plain": [
              "        math_score  reading_score  writing_score\n",
              "gender                                          \n",
              "female   63.630561      72.591876      72.466151\n",
              "male     68.738046      65.476091      63.303534"
            ]
          },
          "metadata": {
            "tags": []
          },
          "execution_count": 1680
        }
      ]
    },
    {
      "cell_type": "code",
      "metadata": {
        "colab": {
          "base_uri": "https://localhost:8080/",
          "height": 330
        },
        "id": "V9eMoC14exvP",
        "outputId": "3f47d58c-7b6c-4e19-a0ab-f16c07812241"
      },
      "source": [
        "# plot male and female scores in different courses\n",
        "df.groupby(['gender']).mean().plot(kind='bar')"
      ],
      "execution_count": null,
      "outputs": [
        {
          "output_type": "execute_result",
          "data": {
            "text/plain": [
              "<matplotlib.axes._subplots.AxesSubplot at 0x7f2fea3d4048>"
            ]
          },
          "metadata": {
            "tags": []
          },
          "execution_count": 1681
        },
        {
          "output_type": "display_data",
          "data": {
            "image/png": "[encoded data removed]",
            "text/plain": [
              "<Figure size 432x288 with 1 Axes>"
            ]
          },
          "metadata": {
            "tags": [],
            "needs_background": "light"
          }
        }
      ]
    },
    {
      "cell_type": "markdown",
      "metadata": {
        "id": "pfwY72fPexzm"
      },
      "source": [
        "We can see that on average, male have higher scores in math. Females have higher scores in reading and writing.\n",
        "\n",
        "\n",
        "\n"
      ]
    },
    {
      "cell_type": "markdown",
      "metadata": {
        "id": "FAIJncCX-Tc_"
      },
      "source": [
        "###Show any attributes (features) that are correlated with exam scores."
      ]
    },
    {
      "cell_type": "code",
      "metadata": {
        "colab": {
          "base_uri": "https://localhost:8080/",
          "height": 215
        },
        "id": "7qwZD2TR-fgC",
        "outputId": "17f0a613-a9db-4185-cfc4-8adcac4b7adf"
      },
      "source": [
        "df.sample(5)"
      ],
      "execution_count": null,
      "outputs": [
        {
          "output_type": "execute_result",
          "data": {
            "text/html": [
              "<div>\n",
              "<style scoped>\n",
              "    .dataframe tbody tr th:only-of-type {\n",
              "        vertical-align: middle;\n",
              "    }\n",
              "\n",
              "    .dataframe tbody tr th {\n",
              "        vertical-align: top;\n",
              "    }\n",
              "\n",
              "    .dataframe thead th {\n",
              "        text-align: right;\n",
              "    }\n",
              "</style>\n",
              "<table border=\"1\" class=\"dataframe\">\n",
              "  <thead>\n",
              "    <tr style=\"text-align: right;\">\n",
              "      <th></th>\n",
              "      <th>gender</th>\n",
              "      <th>race/ethnicity</th>\n",
              "      <th>parental_level_of_education</th>\n",
              "      <th>lunch</th>\n",
              "      <th>test_preparation_course</th>\n",
              "      <th>math_score</th>\n",
              "      <th>reading_score</th>\n",
              "      <th>writing_score</th>\n",
              "    </tr>\n",
              "  </thead>\n",
              "  <tbody>\n",
              "    <tr>\n",
              "      <th>817</th>\n",
              "      <td>female</td>\n",
              "      <td>group A</td>\n",
              "      <td>bachelor's degree</td>\n",
              "      <td>standard</td>\n",
              "      <td>none</td>\n",
              "      <td>45</td>\n",
              "      <td>59</td>\n",
              "      <td>64</td>\n",
              "    </tr>\n",
              "    <tr>\n",
              "      <th>299</th>\n",
              "      <td>male</td>\n",
              "      <td>group C</td>\n",
              "      <td>high school</td>\n",
              "      <td>free/reduced</td>\n",
              "      <td>completed</td>\n",
              "      <td>40</td>\n",
              "      <td>46</td>\n",
              "      <td>50</td>\n",
              "    </tr>\n",
              "    <tr>\n",
              "      <th>532</th>\n",
              "      <td>female</td>\n",
              "      <td>group C</td>\n",
              "      <td>some high school</td>\n",
              "      <td>standard</td>\n",
              "      <td>none</td>\n",
              "      <td>47</td>\n",
              "      <td>54</td>\n",
              "      <td>53</td>\n",
              "    </tr>\n",
              "    <tr>\n",
              "      <th>952</th>\n",
              "      <td>female</td>\n",
              "      <td>group D</td>\n",
              "      <td>some college</td>\n",
              "      <td>standard</td>\n",
              "      <td>completed</td>\n",
              "      <td>75</td>\n",
              "      <td>77</td>\n",
              "      <td>83</td>\n",
              "    </tr>\n",
              "    <tr>\n",
              "      <th>328</th>\n",
              "      <td>male</td>\n",
              "      <td>group A</td>\n",
              "      <td>some college</td>\n",
              "      <td>free/reduced</td>\n",
              "      <td>none</td>\n",
              "      <td>28</td>\n",
              "      <td>23</td>\n",
              "      <td>19</td>\n",
              "    </tr>\n",
              "  </tbody>\n",
              "</table>\n",
              "</div>"
            ],
            "text/plain": [
              "     gender race/ethnicity  ... reading_score writing_score\n",
              "817  female        group A  ...            59            64\n",
              "299    male        group C  ...            46            50\n",
              "532  female        group C  ...            54            53\n",
              "952  female        group D  ...            77            83\n",
              "328    male        group A  ...            23            19\n",
              "\n",
              "[5 rows x 8 columns]"
            ]
          },
          "metadata": {
            "tags": []
          },
          "execution_count": 1682
        }
      ]
    },
    {
      "cell_type": "code",
      "metadata": {
        "colab": {
          "base_uri": "https://localhost:8080/",
          "height": 254
        },
        "id": "bVhR7fwvBRKC",
        "outputId": "56843144-3e60-434e-a49c-4ffdb77a1d8e"
      },
      "source": [
        "# correlation between parental_level_of_education and courses scores\n",
        "df.groupby(['parental_level_of_education']).mean()"
      ],
      "execution_count": null,
      "outputs": [
        {
          "output_type": "execute_result",
          "data": {
            "text/html": [
              "<div>\n",
              "<style scoped>\n",
              "    .dataframe tbody tr th:only-of-type {\n",
              "        vertical-align: middle;\n",
              "    }\n",
              "\n",
              "    .dataframe tbody tr th {\n",
              "        vertical-align: top;\n",
              "    }\n",
              "\n",
              "    .dataframe thead th {\n",
              "        text-align: right;\n",
              "    }\n",
              "</style>\n",
              "<table border=\"1\" class=\"dataframe\">\n",
              "  <thead>\n",
              "    <tr style=\"text-align: right;\">\n",
              "      <th></th>\n",
              "      <th>math_score</th>\n",
              "      <th>reading_score</th>\n",
              "      <th>writing_score</th>\n",
              "    </tr>\n",
              "    <tr>\n",
              "      <th>parental_level_of_education</th>\n",
              "      <th></th>\n",
              "      <th></th>\n",
              "      <th></th>\n",
              "    </tr>\n",
              "  </thead>\n",
              "  <tbody>\n",
              "    <tr>\n",
              "      <th>associate's degree</th>\n",
              "      <td>67.882883</td>\n",
              "      <td>70.927928</td>\n",
              "      <td>69.896396</td>\n",
              "    </tr>\n",
              "    <tr>\n",
              "      <th>bachelor's degree</th>\n",
              "      <td>69.389831</td>\n",
              "      <td>73.000000</td>\n",
              "      <td>73.381356</td>\n",
              "    </tr>\n",
              "    <tr>\n",
              "      <th>high school</th>\n",
              "      <td>62.113402</td>\n",
              "      <td>64.623711</td>\n",
              "      <td>62.371134</td>\n",
              "    </tr>\n",
              "    <tr>\n",
              "      <th>master's degree</th>\n",
              "      <td>69.745763</td>\n",
              "      <td>75.372881</td>\n",
              "      <td>75.677966</td>\n",
              "    </tr>\n",
              "    <tr>\n",
              "      <th>some college</th>\n",
              "      <td>67.128319</td>\n",
              "      <td>69.460177</td>\n",
              "      <td>68.840708</td>\n",
              "    </tr>\n",
              "    <tr>\n",
              "      <th>some high school</th>\n",
              "      <td>63.497207</td>\n",
              "      <td>66.938547</td>\n",
              "      <td>64.888268</td>\n",
              "    </tr>\n",
              "  </tbody>\n",
              "</table>\n",
              "</div>"
            ],
            "text/plain": [
              "                             math_score  reading_score  writing_score\n",
              "parental_level_of_education                                          \n",
              "associate's degree            67.882883      70.927928      69.896396\n",
              "bachelor's degree             69.389831      73.000000      73.381356\n",
              "high school                   62.113402      64.623711      62.371134\n",
              "master's degree               69.745763      75.372881      75.677966\n",
              "some college                  67.128319      69.460177      68.840708\n",
              "some high school              63.497207      66.938547      64.888268"
            ]
          },
          "metadata": {
            "tags": []
          },
          "execution_count": 1683
        }
      ]
    },
    {
      "cell_type": "code",
      "metadata": {
        "colab": {
          "base_uri": "https://localhost:8080/",
          "height": 465
        },
        "id": "ymHYm_4K-gEi",
        "outputId": "53d977ca-5246-4f6b-8944-374805306688"
      },
      "source": [
        "# plot correlation between parental_level_of_education and courses scores\n",
        "df.groupby(['parental_level_of_education']).mean().plot(figsize=(12,7))"
      ],
      "execution_count": null,
      "outputs": [
        {
          "output_type": "execute_result",
          "data": {
            "text/plain": [
              "<matplotlib.axes._subplots.AxesSubplot at 0x7f2fe9df5ba8>"
            ]
          },
          "metadata": {
            "tags": []
          },
          "execution_count": 1684
        },
        {
          "output_type": "display_data",
          "data": {
            "image/png": "[encoded data removed]",
            "text/plain": [
              "<Figure size 864x504 with 1 Axes>"
            ]
          },
          "metadata": {
            "tags": [],
            "needs_background": "light"
          }
        }
      ]
    },
    {
      "cell_type": "markdown",
      "metadata": {
        "id": "BdMrtXoC-gJk"
      },
      "source": [
        "We can see that the parental level of education is affecting their children exam\n",
        "scores. When the parental have a higher education level, their childern have higher average exam scores."
      ]
    },
    {
      "cell_type": "markdown",
      "metadata": {
        "id": "iirEUI46-gNu"
      },
      "source": [
        "###Does test preparation influence students’ performance?)\n"
      ]
    },
    {
      "cell_type": "code",
      "metadata": {
        "colab": {
          "base_uri": "https://localhost:8080/",
          "height": 136
        },
        "id": "owtIgUYt-gRx",
        "outputId": "72bd2893-b06a-45cd-9002-0d1f013e3d11"
      },
      "source": [
        "# correlation between test_preparation_course and courses scores\n",
        "df.groupby(['test_preparation_course']).mean()"
      ],
      "execution_count": null,
      "outputs": [
        {
          "output_type": "execute_result",
          "data": {
            "text/html": [
              "<div>\n",
              "<style scoped>\n",
              "    .dataframe tbody tr th:only-of-type {\n",
              "        vertical-align: middle;\n",
              "    }\n",
              "\n",
              "    .dataframe tbody tr th {\n",
              "        vertical-align: top;\n",
              "    }\n",
              "\n",
              "    .dataframe thead th {\n",
              "        text-align: right;\n",
              "    }\n",
              "</style>\n",
              "<table border=\"1\" class=\"dataframe\">\n",
              "  <thead>\n",
              "    <tr style=\"text-align: right;\">\n",
              "      <th></th>\n",
              "      <th>math_score</th>\n",
              "      <th>reading_score</th>\n",
              "      <th>writing_score</th>\n",
              "    </tr>\n",
              "    <tr>\n",
              "      <th>test_preparation_course</th>\n",
              "      <th></th>\n",
              "      <th></th>\n",
              "      <th></th>\n",
              "    </tr>\n",
              "  </thead>\n",
              "  <tbody>\n",
              "    <tr>\n",
              "      <th>completed</th>\n",
              "      <td>69.711485</td>\n",
              "      <td>73.921569</td>\n",
              "      <td>74.439776</td>\n",
              "    </tr>\n",
              "    <tr>\n",
              "      <th>none</th>\n",
              "      <td>64.076443</td>\n",
              "      <td>66.511700</td>\n",
              "      <td>64.491420</td>\n",
              "    </tr>\n",
              "  </tbody>\n",
              "</table>\n",
              "</div>"
            ],
            "text/plain": [
              "                         math_score  reading_score  writing_score\n",
              "test_preparation_course                                          \n",
              "completed                 69.711485      73.921569      74.439776\n",
              "none                      64.076443      66.511700      64.491420"
            ]
          },
          "metadata": {
            "tags": []
          },
          "execution_count": 1685
        }
      ]
    },
    {
      "cell_type": "code",
      "metadata": {
        "colab": {
          "base_uri": "https://localhost:8080/",
          "height": 464
        },
        "id": "I9DORUJM-goP",
        "outputId": "08e4324a-7bf5-4e7f-e71e-2b269e534511"
      },
      "source": [
        "# plot correlation between test_preparation_course and courses scores\n",
        "df.groupby(['test_preparation_course']).mean().plot(kind='bar', figsize=(12,7), rot=0)\n",
        "plt.title('Correlation between test preparation course and courses scores')\n",
        "plt.ylabel('Average exam scores')\n",
        "plt.xlabel('Test preparation course');"
      ],
      "execution_count": null,
      "outputs": [
        {
          "output_type": "display_data",
          "data": {
            "image/png": "[encoded data removed]",
            "text/plain": [
              "<Figure size 864x504 with 1 Axes>"
            ]
          },
          "metadata": {
            "tags": [],
            "needs_background": "light"
          }
        }
      ]
    },
    {
      "cell_type": "markdown",
      "metadata": {
        "id": "dVCbciQk-gqy"
      },
      "source": [
        "We can see that the students who compeleted the test preparation course have a higher average exam scores."
      ]
    },
    {
      "cell_type": "code",
      "metadata": {
        "colab": {
          "base_uri": "https://localhost:8080/",
          "height": 136
        },
        "id": "P5enO-oxUlba",
        "outputId": "4ad74709-ee47-4eee-ab82-8cec8d74789e"
      },
      "source": [
        "# correlation between lunch and courses scores\n",
        "df.groupby(['lunch']).mean()"
      ],
      "execution_count": null,
      "outputs": [
        {
          "output_type": "execute_result",
          "data": {
            "text/html": [
              "<div>\n",
              "<style scoped>\n",
              "    .dataframe tbody tr th:only-of-type {\n",
              "        vertical-align: middle;\n",
              "    }\n",
              "\n",
              "    .dataframe tbody tr th {\n",
              "        vertical-align: top;\n",
              "    }\n",
              "\n",
              "    .dataframe thead th {\n",
              "        text-align: right;\n",
              "    }\n",
              "</style>\n",
              "<table border=\"1\" class=\"dataframe\">\n",
              "  <thead>\n",
              "    <tr style=\"text-align: right;\">\n",
              "      <th></th>\n",
              "      <th>math_score</th>\n",
              "      <th>reading_score</th>\n",
              "      <th>writing_score</th>\n",
              "    </tr>\n",
              "    <tr>\n",
              "      <th>lunch</th>\n",
              "      <th></th>\n",
              "      <th></th>\n",
              "      <th></th>\n",
              "    </tr>\n",
              "  </thead>\n",
              "  <tbody>\n",
              "    <tr>\n",
              "      <th>free/reduced</th>\n",
              "      <td>58.906780</td>\n",
              "      <td>64.655367</td>\n",
              "      <td>63.011299</td>\n",
              "    </tr>\n",
              "    <tr>\n",
              "      <th>standard</th>\n",
              "      <td>70.041925</td>\n",
              "      <td>71.639752</td>\n",
              "      <td>70.819876</td>\n",
              "    </tr>\n",
              "  </tbody>\n",
              "</table>\n",
              "</div>"
            ],
            "text/plain": [
              "              math_score  reading_score  writing_score\n",
              "lunch                                                 \n",
              "free/reduced   58.906780      64.655367      63.011299\n",
              "standard       70.041925      71.639752      70.819876"
            ]
          },
          "metadata": {
            "tags": []
          },
          "execution_count": 1687
        }
      ]
    },
    {
      "cell_type": "code",
      "metadata": {
        "colab": {
          "base_uri": "https://localhost:8080/",
          "height": 464
        },
        "id": "APBoM5hRUllt",
        "outputId": "f6e22912-8534-4fa8-a9c0-3d43b65f58aa"
      },
      "source": [
        "# plot correlation between lunch and courses scores\n",
        "df.groupby(['lunch']).mean().plot(kind='bar', figsize=(12,7), rot=0)\n",
        "plt.title('Correlation between lunch and courses scores')\n",
        "plt.ylabel('Average exam scores')\n",
        "plt.xlabel('lunch');"
      ],
      "execution_count": null,
      "outputs": [
        {
          "output_type": "display_data",
          "data": {
            "image/png": "[encoded data removed]",
            "text/plain": [
              "<Figure size 864x504 with 1 Axes>"
            ]
          },
          "metadata": {
            "tags": [],
            "needs_background": "light"
          }
        }
      ]
    },
    {
      "cell_type": "markdown",
      "metadata": {
        "id": "z8zbFzanUlqi"
      },
      "source": [
        "We can see that the students who eat standerd lunch have a higher average exam scores"
      ]
    },
    {
      "cell_type": "code",
      "metadata": {
        "colab": {
          "base_uri": "https://localhost:8080/"
        },
        "id": "JjVNJm5aWWMN",
        "outputId": "651e885e-1b74-41e2-9f38-9ea475d2d189"
      },
      "source": [
        "df['race/ethnicity'].value_counts()"
      ],
      "execution_count": null,
      "outputs": [
        {
          "output_type": "execute_result",
          "data": {
            "text/plain": [
              "group C    319\n",
              "group D    261\n",
              "group B    189\n",
              "group E    140\n",
              "group A     89\n",
              "Name: race/ethnicity, dtype: int64"
            ]
          },
          "metadata": {
            "tags": []
          },
          "execution_count": 1689
        }
      ]
    },
    {
      "cell_type": "code",
      "metadata": {
        "colab": {
          "base_uri": "https://localhost:8080/",
          "height": 225
        },
        "id": "QWaCX0hZUlvP",
        "outputId": "864d7cfe-7ac2-43c7-a338-d0f9ab285fb7"
      },
      "source": [
        "# correlation between race/ethnicity and courses scores\n",
        "df.groupby(['race/ethnicity']).mean()"
      ],
      "execution_count": null,
      "outputs": [
        {
          "output_type": "execute_result",
          "data": {
            "text/html": [
              "<div>\n",
              "<style scoped>\n",
              "    .dataframe tbody tr th:only-of-type {\n",
              "        vertical-align: middle;\n",
              "    }\n",
              "\n",
              "    .dataframe tbody tr th {\n",
              "        vertical-align: top;\n",
              "    }\n",
              "\n",
              "    .dataframe thead th {\n",
              "        text-align: right;\n",
              "    }\n",
              "</style>\n",
              "<table border=\"1\" class=\"dataframe\">\n",
              "  <thead>\n",
              "    <tr style=\"text-align: right;\">\n",
              "      <th></th>\n",
              "      <th>math_score</th>\n",
              "      <th>reading_score</th>\n",
              "      <th>writing_score</th>\n",
              "    </tr>\n",
              "    <tr>\n",
              "      <th>race/ethnicity</th>\n",
              "      <th></th>\n",
              "      <th></th>\n",
              "      <th></th>\n",
              "    </tr>\n",
              "  </thead>\n",
              "  <tbody>\n",
              "    <tr>\n",
              "      <th>group A</th>\n",
              "      <td>61.629213</td>\n",
              "      <td>64.674157</td>\n",
              "      <td>62.674157</td>\n",
              "    </tr>\n",
              "    <tr>\n",
              "      <th>group B</th>\n",
              "      <td>63.444444</td>\n",
              "      <td>67.280423</td>\n",
              "      <td>65.560847</td>\n",
              "    </tr>\n",
              "    <tr>\n",
              "      <th>group C</th>\n",
              "      <td>64.463950</td>\n",
              "      <td>69.103448</td>\n",
              "      <td>67.827586</td>\n",
              "    </tr>\n",
              "    <tr>\n",
              "      <th>group D</th>\n",
              "      <td>67.375479</td>\n",
              "      <td>70.053640</td>\n",
              "      <td>70.157088</td>\n",
              "    </tr>\n",
              "    <tr>\n",
              "      <th>group E</th>\n",
              "      <td>73.821429</td>\n",
              "      <td>73.028571</td>\n",
              "      <td>71.407143</td>\n",
              "    </tr>\n",
              "  </tbody>\n",
              "</table>\n",
              "</div>"
            ],
            "text/plain": [
              "                math_score  reading_score  writing_score\n",
              "race/ethnicity                                          \n",
              "group A          61.629213      64.674157      62.674157\n",
              "group B          63.444444      67.280423      65.560847\n",
              "group C          64.463950      69.103448      67.827586\n",
              "group D          67.375479      70.053640      70.157088\n",
              "group E          73.821429      73.028571      71.407143"
            ]
          },
          "metadata": {
            "tags": []
          },
          "execution_count": 1690
        }
      ]
    },
    {
      "cell_type": "code",
      "metadata": {
        "colab": {
          "base_uri": "https://localhost:8080/",
          "height": 465
        },
        "id": "WICdL7b5Ulze",
        "outputId": "fbdebe7c-ae7f-4f17-98c5-1f976083b449"
      },
      "source": [
        "# plot correlation between race/ethnicity and courses scores\n",
        "df.groupby(['race/ethnicity']).mean().plot(figsize=(12,7))"
      ],
      "execution_count": null,
      "outputs": [
        {
          "output_type": "execute_result",
          "data": {
            "text/plain": [
              "<matplotlib.axes._subplots.AxesSubplot at 0x7f2fe9be9c50>"
            ]
          },
          "metadata": {
            "tags": []
          },
          "execution_count": 1691
        },
        {
          "output_type": "display_data",
          "data": {
            "image/png": "[encoded data removed]",
            "text/plain": [
              "<Figure size 864x504 with 1 Axes>"
            ]
          },
          "metadata": {
            "tags": [],
            "needs_background": "light"
          }
        }
      ]
    },
    {
      "cell_type": "markdown",
      "metadata": {
        "id": "NEegVMEaUl3e"
      },
      "source": [
        "It's clear that the race/ethnicity have an effect on the exam scores. group A have the lowest average exam scores and group E have the highest average exam scores."
      ]
    },
    {
      "cell_type": "markdown",
      "metadata": {
        "id": "9A_B-7M94nyQ"
      },
      "source": [
        "#Build a machine learning model"
      ]
    },
    {
      "cell_type": "markdown",
      "metadata": {
        "id": "UeyD0VQ14odh"
      },
      "source": [
        "###Machine learning model to predict student’s exam performance in math.\n",
        "###dependent variable: math score\n",
        "###independent variables: gender, race/ethnicity, parental level of education, lunch, and test preparation course.\n",
        "###I will use multiple linear regression model in sklearn library\n",
        "\n"
      ]
    },
    {
      "cell_type": "markdown",
      "metadata": {
        "id": "hoh7CJDDC9hO"
      },
      "source": [
        "I will create a mapping of the sortable categories in race/ethnicity column"
      ]
    },
    {
      "cell_type": "code",
      "metadata": {
        "colab": {
          "base_uri": "https://localhost:8080/"
        },
        "id": "hzIz3gof4oh1",
        "outputId": "fb85a4fb-848c-4635-b681-bb20c950aea8"
      },
      "source": [
        "# Numbers for ordinal data in race/ethnicity column\n",
        "df['race/ethnicity'] = df['race/ethnicity'].astype('category')\n",
        "df['race/ethnicity'] = df['race/ethnicity'].cat.reorder_categories(['group A', 'group B', 'group C', 'group D', 'group E'], ordered=True)\n",
        "df['race/ethnicity'] = df['race/ethnicity'].cat.codes\n",
        "print(df['race/ethnicity'])"
      ],
      "execution_count": null,
      "outputs": [
        {
          "output_type": "stream",
          "text": [
            "0       1\n",
            "1       2\n",
            "2       1\n",
            "3       0\n",
            "4       2\n",
            "       ..\n",
            "996     4\n",
            "997     2\n",
            "998     2\n",
            "999     3\n",
            "1000    3\n",
            "Name: race/ethnicity, Length: 998, dtype: int8\n"
          ],
          "name": "stdout"
        }
      ]
    },
    {
      "cell_type": "code",
      "metadata": {
        "id": "1PSQfyYx4opX"
      },
      "source": [
        "# get dummies for the other categorical columns\n",
        "ml_df = pd.get_dummies(df, drop_first=True)"
      ],
      "execution_count": null,
      "outputs": []
    },
    {
      "cell_type": "code",
      "metadata": {
        "colab": {
          "base_uri": "https://localhost:8080/"
        },
        "id": "qC4CYS48-Z1v",
        "outputId": "a420d1ef-5559-4230-e2a7-aaf46ca68d01"
      },
      "source": [
        "# dependent and independent variable\n",
        "x = ml_df.drop(['math_score'],axis=1)\n",
        "y = ml_df['math_score']\n",
        "# splitting the data for training and testing\n",
        "from sklearn.model_selection import train_test_split\n",
        "X_train, X_test, y_train, y_test = train_test_split(x, y, test_size=0.2)\n",
        "X_train.shape, y_train.shape"
      ],
      "execution_count": null,
      "outputs": [
        {
          "output_type": "execute_result",
          "data": {
            "text/plain": [
              "((798, 11), (798,))"
            ]
          },
          "metadata": {
            "tags": []
          },
          "execution_count": 1694
        }
      ]
    },
    {
      "cell_type": "code",
      "metadata": {
        "colab": {
          "base_uri": "https://localhost:8080/"
        },
        "id": "q7oDrFVK4otA",
        "outputId": "7a443baf-a440-4539-e04b-60edc4671465"
      },
      "source": [
        "# training the model\n",
        "from sklearn.linear_model import LinearRegression\n",
        "lm = LinearRegression()\n",
        "lm.fit(X_train, y_train)"
      ],
      "execution_count": null,
      "outputs": [
        {
          "output_type": "execute_result",
          "data": {
            "text/plain": [
              "LinearRegression(copy_X=True, fit_intercept=True, n_jobs=None, normalize=False)"
            ]
          },
          "metadata": {
            "tags": []
          },
          "execution_count": 1695
        }
      ]
    },
    {
      "cell_type": "code",
      "metadata": {
        "colab": {
          "base_uri": "https://localhost:8080/"
        },
        "id": "l20MNQaGQejJ",
        "outputId": "8559059f-583c-4dc6-81fa-cf83590df7af"
      },
      "source": [
        "# predict\n",
        "y_predict = lm.predict(X_test)\n",
        "expected = y_test\n",
        "for p, e in zip(y_predict[::5], expected[::5]):\n",
        "  print(f'predicted: {p}, expected: {e}')"
      ],
      "execution_count": null,
      "outputs": [
        {
          "output_type": "stream",
          "text": [
            "predicted: 60.47322181336706, expected: 61\n",
            "predicted: 70.05915253065052, expected: 71\n",
            "predicted: 59.57949106565677, expected: 57\n",
            "predicted: 102.06376744474314, expected: 100\n",
            "predicted: 82.77259766326668, expected: 87\n",
            "predicted: 78.77452345321865, expected: 77\n",
            "predicted: 64.92472345671602, expected: 74\n",
            "predicted: 93.00522365104305, expected: 96\n",
            "predicted: 84.25413322303045, expected: 88\n",
            "predicted: 61.949464416368784, expected: 70\n",
            "predicted: 64.73114193320185, expected: 70\n",
            "predicted: 53.35502702489741, expected: 59\n",
            "predicted: 54.06041474101443, expected: 49\n",
            "predicted: 71.47001505107404, expected: 69\n",
            "predicted: 48.33648883235926, expected: 40\n",
            "predicted: 57.9245777955949, expected: 55\n",
            "predicted: 68.44288774462983, expected: 62\n",
            "predicted: 76.38510692955903, expected: 77\n",
            "predicted: 66.33516590080706, expected: 59\n",
            "predicted: 66.78233204948702, expected: 60\n",
            "predicted: 74.19135647811247, expected: 76\n",
            "predicted: 51.68006387384846, expected: 45\n",
            "predicted: 74.41977228177363, expected: 78\n",
            "predicted: 68.04565849885614, expected: 65\n",
            "predicted: 69.47889813416114, expected: 60\n",
            "predicted: 64.53458818678261, expected: 64\n",
            "predicted: 68.63840699516871, expected: 62\n",
            "predicted: 85.75249593723733, expected: 93\n",
            "predicted: 59.94255698759616, expected: 59\n",
            "predicted: 72.51129572987443, expected: 67\n",
            "predicted: 78.17755945182485, expected: 78\n",
            "predicted: 62.227313645408245, expected: 65\n",
            "predicted: 76.13982669410085, expected: 76\n",
            "predicted: 71.60662648449352, expected: 77\n",
            "predicted: 69.77565751085798, expected: 63\n",
            "predicted: 42.88609736056413, expected: 47\n",
            "predicted: 57.65645451477275, expected: 50\n",
            "predicted: 89.18656842305118, expected: 90\n",
            "predicted: 45.55604211232738, expected: 37\n",
            "predicted: 25.420407844462275, expected: 27\n"
          ],
          "name": "stdout"
        }
      ]
    },
    {
      "cell_type": "code",
      "metadata": {
        "colab": {
          "base_uri": "https://localhost:8080/"
        },
        "id": "Xgqlv_hvQeo7",
        "outputId": "83a4deb4-5682-4b4a-c7b6-ec6688a0b1a3"
      },
      "source": [
        "from sklearn.metrics import mean_squared_error, r2_score\n",
        "# The mean squared error\n",
        "print('Mean squared error: %.2f'\n",
        "      % mean_squared_error(y_test, y_predict))\n",
        "# The coefficient of determination: 1 is perfect prediction\n",
        "print('Coefficient of determination: %.2f'\n",
        "      % r2_score(y_test, y_predict))"
      ],
      "execution_count": null,
      "outputs": [
        {
          "output_type": "stream",
          "text": [
            "Mean squared error: 30.85\n",
            "Coefficient of determination: 0.85\n"
          ],
          "name": "stdout"
        }
      ]
    },
    {
      "cell_type": "markdown",
      "metadata": {
        "id": "FxYamjZaQetW"
      },
      "source": [
        "Visualizing the Expected vs. Predicted Math scores\n"
      ]
    },
    {
      "cell_type": "code",
      "metadata": {
        "id": "rWAe_yr2Iwfy"
      },
      "source": [
        "m1_df = pd.DataFrame()\n",
        "m1_df['expected'] = y_test\n",
        "m1_df['predicted'] = y_predict"
      ],
      "execution_count": null,
      "outputs": []
    },
    {
      "cell_type": "code",
      "metadata": {
        "colab": {
          "base_uri": "https://localhost:8080/",
          "height": 573
        },
        "id": "oW5-5lnLIwkf",
        "outputId": "0c62d387-b85c-4449-db01-ebabff4229b8"
      },
      "source": [
        "figure = plt.figure(figsize=(9, 9))\n",
        "axes = sns.scatterplot(data=m1_df, x='expected', y='predicted',\n",
        "                       hue='predicted', palette='cool', legend=False, )\n",
        "start = min(m1_df.expected.min(), m1_df.predicted.min())\n",
        "end = max(m1_df.expected.max(), m1_df.predicted.max())\n",
        "plt.title(f'Visualizing the Expected vs. Predicted Math Scores. R2: %.2f'\n",
        "      % r2_score(y_test, y_predict))\n",
        "line = plt.plot([start, end], [start, end], 'k--')"
      ],
      "execution_count": null,
      "outputs": [
        {
          "output_type": "display_data",
          "data": {
            "image/png": "[encoded data removed]",
            "text/plain": [
              "<Figure size 648x648 with 1 Axes>"
            ]
          },
          "metadata": {
            "tags": [],
            "needs_background": "light"
          }
        }
      ]
    },
    {
      "cell_type": "markdown",
      "metadata": {
        "id": "42jy7zGAQe06"
      },
      "source": [
        "###Machine learning model to predict student’s exam performance in reading.\n",
        "###dependent variable: math score\n",
        "###independent variables: gender, race/ethnicity, parental level of education, lunch, and test preparation course.\n",
        "###I will use multiple linear regression model in sklearn library"
      ]
    },
    {
      "cell_type": "code",
      "metadata": {
        "colab": {
          "base_uri": "https://localhost:8080/"
        },
        "id": "p2M44ImyfgdT",
        "outputId": "75c68ef0-534c-4a29-d21b-fd97476751e5"
      },
      "source": [
        "# dependent and independent variable\n",
        "x = ml_df.drop(['reading_score'],axis=1)\n",
        "y = ml_df['reading_score']\n",
        "# splitting the data for training and testing\n",
        "from sklearn.model_selection import train_test_split\n",
        "X_train, X_test, y_train, y_test = train_test_split(x, y, test_size=0.2)\n",
        "X_train.shape, y_train.shape"
      ],
      "execution_count": null,
      "outputs": [
        {
          "output_type": "execute_result",
          "data": {
            "text/plain": [
              "((798, 11), (798,))"
            ]
          },
          "metadata": {
            "tags": []
          },
          "execution_count": 1702
        }
      ]
    },
    {
      "cell_type": "code",
      "metadata": {
        "colab": {
          "base_uri": "https://localhost:8080/",
          "height": 232
        },
        "id": "1M0M9lDWj1Ka",
        "outputId": "397acdb4-a3b0-4fbb-eb64-355ce7a32901"
      },
      "source": [
        "ml_df.head()"
      ],
      "execution_count": null,
      "outputs": [
        {
          "output_type": "execute_result",
          "data": {
            "text/html": [
              "<div>\n",
              "<style scoped>\n",
              "    .dataframe tbody tr th:only-of-type {\n",
              "        vertical-align: middle;\n",
              "    }\n",
              "\n",
              "    .dataframe tbody tr th {\n",
              "        vertical-align: top;\n",
              "    }\n",
              "\n",
              "    .dataframe thead th {\n",
              "        text-align: right;\n",
              "    }\n",
              "</style>\n",
              "<table border=\"1\" class=\"dataframe\">\n",
              "  <thead>\n",
              "    <tr style=\"text-align: right;\">\n",
              "      <th></th>\n",
              "      <th>race/ethnicity</th>\n",
              "      <th>math_score</th>\n",
              "      <th>reading_score</th>\n",
              "      <th>writing_score</th>\n",
              "      <th>gender_male</th>\n",
              "      <th>parental_level_of_education_bachelor's degree</th>\n",
              "      <th>parental_level_of_education_high school</th>\n",
              "      <th>parental_level_of_education_master's degree</th>\n",
              "      <th>parental_level_of_education_some college</th>\n",
              "      <th>parental_level_of_education_some high school</th>\n",
              "      <th>lunch_standard</th>\n",
              "      <th>test_preparation_course_none</th>\n",
              "    </tr>\n",
              "  </thead>\n",
              "  <tbody>\n",
              "    <tr>\n",
              "      <th>0</th>\n",
              "      <td>1</td>\n",
              "      <td>72</td>\n",
              "      <td>72</td>\n",
              "      <td>74</td>\n",
              "      <td>0</td>\n",
              "      <td>1</td>\n",
              "      <td>0</td>\n",
              "      <td>0</td>\n",
              "      <td>0</td>\n",
              "      <td>0</td>\n",
              "      <td>1</td>\n",
              "      <td>1</td>\n",
              "    </tr>\n",
              "    <tr>\n",
              "      <th>1</th>\n",
              "      <td>2</td>\n",
              "      <td>69</td>\n",
              "      <td>90</td>\n",
              "      <td>88</td>\n",
              "      <td>0</td>\n",
              "      <td>0</td>\n",
              "      <td>0</td>\n",
              "      <td>0</td>\n",
              "      <td>1</td>\n",
              "      <td>0</td>\n",
              "      <td>1</td>\n",
              "      <td>0</td>\n",
              "    </tr>\n",
              "    <tr>\n",
              "      <th>2</th>\n",
              "      <td>1</td>\n",
              "      <td>90</td>\n",
              "      <td>95</td>\n",
              "      <td>93</td>\n",
              "      <td>0</td>\n",
              "      <td>0</td>\n",
              "      <td>0</td>\n",
              "      <td>1</td>\n",
              "      <td>0</td>\n",
              "      <td>0</td>\n",
              "      <td>1</td>\n",
              "      <td>1</td>\n",
              "    </tr>\n",
              "    <tr>\n",
              "      <th>3</th>\n",
              "      <td>0</td>\n",
              "      <td>47</td>\n",
              "      <td>57</td>\n",
              "      <td>44</td>\n",
              "      <td>1</td>\n",
              "      <td>0</td>\n",
              "      <td>0</td>\n",
              "      <td>0</td>\n",
              "      <td>0</td>\n",
              "      <td>0</td>\n",
              "      <td>0</td>\n",
              "      <td>1</td>\n",
              "    </tr>\n",
              "    <tr>\n",
              "      <th>4</th>\n",
              "      <td>2</td>\n",
              "      <td>76</td>\n",
              "      <td>78</td>\n",
              "      <td>75</td>\n",
              "      <td>1</td>\n",
              "      <td>0</td>\n",
              "      <td>0</td>\n",
              "      <td>0</td>\n",
              "      <td>1</td>\n",
              "      <td>0</td>\n",
              "      <td>1</td>\n",
              "      <td>1</td>\n",
              "    </tr>\n",
              "  </tbody>\n",
              "</table>\n",
              "</div>"
            ],
            "text/plain": [
              "   race/ethnicity  math_score  ...  lunch_standard  test_preparation_course_none\n",
              "0               1          72  ...               1                             1\n",
              "1               2          69  ...               1                             0\n",
              "2               1          90  ...               1                             1\n",
              "3               0          47  ...               0                             1\n",
              "4               2          76  ...               1                             1\n",
              "\n",
              "[5 rows x 12 columns]"
            ]
          },
          "metadata": {
            "tags": []
          },
          "execution_count": 1703
        }
      ]
    },
    {
      "cell_type": "code",
      "metadata": {
        "colab": {
          "base_uri": "https://localhost:8080/"
        },
        "id": "awYS7bA2gglf",
        "outputId": "60dd0dad-a2da-4d44-de6e-1e8bed32bc94"
      },
      "source": [
        "# training the model\n",
        "from sklearn.linear_model import LinearRegression\n",
        "lm = LinearRegression()\n",
        "lm.fit(X=X_train, y=y_train)"
      ],
      "execution_count": null,
      "outputs": [
        {
          "output_type": "execute_result",
          "data": {
            "text/plain": [
              "LinearRegression(copy_X=True, fit_intercept=True, n_jobs=None, normalize=False)"
            ]
          },
          "metadata": {
            "tags": []
          },
          "execution_count": 1704
        }
      ]
    },
    {
      "cell_type": "code",
      "metadata": {
        "colab": {
          "base_uri": "https://localhost:8080/"
        },
        "id": "HTUpyiM_ggli",
        "outputId": "315b3900-808e-43d6-fa7c-80a123d6ebc7"
      },
      "source": [
        "# predict\n",
        "y_predict = lm.predict(X_test)\n",
        "expected = y_test\n",
        "for p, e in zip(y_predict[::5], expected[::5]):\n",
        "  print(f'predicted: {p:.2f}, expected: {e:.2f}')"
      ],
      "execution_count": null,
      "outputs": [
        {
          "output_type": "stream",
          "text": [
            "predicted: 81.71, expected: 81.00\n",
            "predicted: 52.27, expected: 54.00\n",
            "predicted: 64.31, expected: 64.00\n",
            "predicted: 73.12, expected: 74.00\n",
            "predicted: 54.16, expected: 50.00\n",
            "predicted: 74.34, expected: 76.00\n",
            "predicted: 69.81, expected: 69.00\n",
            "predicted: 75.57, expected: 66.00\n",
            "predicted: 77.70, expected: 77.00\n",
            "predicted: 71.20, expected: 74.00\n",
            "predicted: 71.89, expected: 70.00\n",
            "predicted: 78.76, expected: 80.00\n",
            "predicted: 80.72, expected: 79.00\n",
            "predicted: 81.39, expected: 81.00\n",
            "predicted: 77.20, expected: 76.00\n",
            "predicted: 49.59, expected: 46.00\n",
            "predicted: 97.70, expected: 100.00\n",
            "predicted: 59.35, expected: 51.00\n",
            "predicted: 72.51, expected: 68.00\n",
            "predicted: 61.78, expected: 50.00\n",
            "predicted: 57.56, expected: 56.00\n",
            "predicted: 58.27, expected: 58.00\n",
            "predicted: 76.45, expected: 81.00\n",
            "predicted: 31.95, expected: 38.00\n",
            "predicted: 69.79, expected: 70.00\n",
            "predicted: 67.52, expected: 67.00\n",
            "predicted: 64.93, expected: 65.00\n",
            "predicted: 55.51, expected: 52.00\n",
            "predicted: 83.07, expected: 82.00\n",
            "predicted: 73.03, expected: 73.00\n",
            "predicted: 66.05, expected: 72.00\n",
            "predicted: 60.95, expected: 60.00\n",
            "predicted: 52.35, expected: 48.00\n",
            "predicted: 63.40, expected: 59.00\n",
            "predicted: 95.12, expected: 89.00\n",
            "predicted: 59.95, expected: 58.00\n",
            "predicted: 50.06, expected: 48.00\n",
            "predicted: 59.38, expected: 59.00\n",
            "predicted: 84.38, expected: 87.00\n",
            "predicted: 77.98, expected: 82.00\n"
          ],
          "name": "stdout"
        }
      ]
    },
    {
      "cell_type": "code",
      "metadata": {
        "colab": {
          "base_uri": "https://localhost:8080/"
        },
        "id": "dN0Yyeh4ggli",
        "outputId": "fa3d0ae1-f4c2-4731-a802-43ec953e11f0"
      },
      "source": [
        "from sklearn.metrics import mean_squared_error, r2_score\n",
        "# The mean squared error\n",
        "print('Mean squared error: %.2f'\n",
        "      % mean_squared_error(y_test, y_predict))\n",
        "# The coefficient of determination: 1 is perfect prediction\n",
        "print('Coefficient of determination: %.2f'\n",
        "      % r2_score(y_test, y_predict))"
      ],
      "execution_count": null,
      "outputs": [
        {
          "output_type": "stream",
          "text": [
            "Mean squared error: 15.51\n",
            "Coefficient of determination: 0.92\n"
          ],
          "name": "stdout"
        }
      ]
    },
    {
      "cell_type": "markdown",
      "metadata": {
        "id": "LG16E8Ndggli"
      },
      "source": [
        "Visualizing the Expected vs. Predicted reading scores\n"
      ]
    },
    {
      "cell_type": "code",
      "metadata": {
        "id": "qlykCziVggli"
      },
      "source": [
        "m1_df = pd.DataFrame()\n",
        "m1_df['expected'] = y_test\n",
        "m1_df['predicted'] = y_predict"
      ],
      "execution_count": null,
      "outputs": []
    },
    {
      "cell_type": "code",
      "metadata": {
        "colab": {
          "base_uri": "https://localhost:8080/",
          "height": 573
        },
        "id": "eHzIwU9mggli",
        "outputId": "b895e60d-ecee-4c0b-e797-9450944d454e"
      },
      "source": [
        "figure = plt.figure(figsize=(9, 9))\n",
        "axes = sns.scatterplot(data=m1_df, x='expected', y='predicted',\n",
        "                       hue='predicted', palette='cool', legend=False, )\n",
        "start = min(m1_df.expected.min(), m1_df.predicted.min())\n",
        "end = max(m1_df.expected.max(), m1_df.predicted.max())\n",
        "plt.title('Visualizing the Expected vs. Predicted reading Scores. R2: %.2f'\n",
        "      % r2_score(y_test, y_predict))\n",
        "line = plt.plot([start, end], [start, end], 'k--')"
      ],
      "execution_count": null,
      "outputs": [
        {
          "output_type": "display_data",
          "data": {
            "image/png": "[encoded data removed]",
            "text/plain": [
              "<Figure size 648x648 with 1 Axes>"
            ]
          },
          "metadata": {
            "tags": [],
            "needs_background": "light"
          }
        }
      ]
    },
    {
      "cell_type": "markdown",
      "metadata": {
        "id": "BQFPU5DNn-9G"
      },
      "source": [
        "###Machine learning model to predict student’s exam performance in writing.\n",
        "###dependent variable: writing score\n",
        "###independent variables: gender, race/ethnicity, parental level of education, lunch, and test preparation course, math score, reading score.\n",
        "###I will use multiple linear regression model in sklearn library"
      ]
    },
    {
      "cell_type": "code",
      "metadata": {
        "colab": {
          "base_uri": "https://localhost:8080/"
        },
        "id": "wDeWmWyyn-9H",
        "outputId": "c0da0bb1-d8bb-4c30-89af-06d0c4385fc3"
      },
      "source": [
        "# dependent and independent variable\n",
        "x = ml_df.drop(['writing_score'],axis=1)\n",
        "y = ml_df['writing_score']\n",
        "# splitting the data for training and testing\n",
        "from sklearn.model_selection import train_test_split\n",
        "X_train, X_test, y_train, y_test = train_test_split(x, y, test_size=0.2)\n",
        "X_train.shape, y_train.shape"
      ],
      "execution_count": null,
      "outputs": [
        {
          "output_type": "execute_result",
          "data": {
            "text/plain": [
              "((798, 11), (798,))"
            ]
          },
          "metadata": {
            "tags": []
          },
          "execution_count": 1709
        }
      ]
    },
    {
      "cell_type": "code",
      "metadata": {
        "colab": {
          "base_uri": "https://localhost:8080/"
        },
        "id": "xZP4XYxqn-9J",
        "outputId": "361db9e4-a0ee-4e3f-d1e2-563c12b57134"
      },
      "source": [
        "# training the model\n",
        "from sklearn.linear_model import LinearRegression\n",
        "lm = LinearRegression()\n",
        "lm.fit(X=X_train, y=y_train)"
      ],
      "execution_count": null,
      "outputs": [
        {
          "output_type": "execute_result",
          "data": {
            "text/plain": [
              "LinearRegression(copy_X=True, fit_intercept=True, n_jobs=None, normalize=False)"
            ]
          },
          "metadata": {
            "tags": []
          },
          "execution_count": 1710
        }
      ]
    },
    {
      "cell_type": "code",
      "metadata": {
        "colab": {
          "base_uri": "https://localhost:8080/"
        },
        "id": "hbbbubA_n-9J",
        "outputId": "fe197fdc-6f29-4d04-af5e-9888b630e940"
      },
      "source": [
        "# predict\n",
        "y_predict = lm.predict(X_test)\n",
        "expected = y_test\n",
        "for p, e in zip(y_predict[::5], expected[::5]):\n",
        "  print(f'predicted: {p:.2f}, expected: {e:.2f}')"
      ],
      "execution_count": null,
      "outputs": [
        {
          "output_type": "stream",
          "text": [
            "predicted: 47.67, expected: 47.00\n",
            "predicted: 81.80, expected: 78.00\n",
            "predicted: 95.70, expected: 93.00\n",
            "predicted: 66.03, expected: 72.00\n",
            "predicted: 35.82, expected: 34.00\n",
            "predicted: 98.41, expected: 100.00\n",
            "predicted: 83.50, expected: 89.00\n",
            "predicted: 76.48, expected: 76.00\n",
            "predicted: 83.98, expected: 81.00\n",
            "predicted: 58.55, expected: 59.00\n",
            "predicted: 75.99, expected: 73.00\n",
            "predicted: 62.20, expected: 67.00\n",
            "predicted: 62.47, expected: 62.00\n",
            "predicted: 73.16, expected: 78.00\n",
            "predicted: 50.85, expected: 50.00\n",
            "predicted: 53.58, expected: 52.00\n",
            "predicted: 63.10, expected: 68.00\n",
            "predicted: 62.38, expected: 67.00\n",
            "predicted: 49.51, expected: 46.00\n",
            "predicted: 74.66, expected: 78.00\n",
            "predicted: 64.56, expected: 69.00\n",
            "predicted: 79.70, expected: 80.00\n",
            "predicted: 76.11, expected: 81.00\n",
            "predicted: 65.59, expected: 67.00\n",
            "predicted: 56.92, expected: 60.00\n",
            "predicted: 54.93, expected: 54.00\n",
            "predicted: 48.83, expected: 53.00\n",
            "predicted: 76.71, expected: 79.00\n",
            "predicted: 69.43, expected: 68.00\n",
            "predicted: 58.31, expected: 54.00\n",
            "predicted: 81.38, expected: 77.00\n",
            "predicted: 61.32, expected: 61.00\n",
            "predicted: 76.64, expected: 80.00\n",
            "predicted: 63.07, expected: 69.00\n",
            "predicted: 53.15, expected: 53.00\n",
            "predicted: 53.03, expected: 52.00\n",
            "predicted: 67.89, expected: 67.00\n",
            "predicted: 58.39, expected: 55.00\n",
            "predicted: 66.01, expected: 65.00\n",
            "predicted: 80.47, expected: 82.00\n"
          ],
          "name": "stdout"
        }
      ]
    },
    {
      "cell_type": "code",
      "metadata": {
        "colab": {
          "base_uri": "https://localhost:8080/"
        },
        "id": "TFeM6RXDn-9J",
        "outputId": "a28cee77-0a05-443f-9cf5-8d693d7a8f25"
      },
      "source": [
        "from sklearn.metrics import mean_squared_error, r2_score\n",
        "# The mean squared error\n",
        "print('Mean squared error: %.2f'\n",
        "      % mean_squared_error(y_test, y_predict))\n",
        "# The coefficient of determination: 1 is perfect prediction\n",
        "print('Coefficient of determination: %.2f'\n",
        "      % r2_score(y_test, y_predict))"
      ],
      "execution_count": null,
      "outputs": [
        {
          "output_type": "stream",
          "text": [
            "Mean squared error: 13.53\n",
            "Coefficient of determination: 0.95\n"
          ],
          "name": "stdout"
        }
      ]
    },
    {
      "cell_type": "markdown",
      "metadata": {
        "id": "ne5dWy1gn-9J"
      },
      "source": [
        "Visualizing the Expected vs. Predicted writing scores\n"
      ]
    },
    {
      "cell_type": "code",
      "metadata": {
        "id": "yGHLFTAQn-9J"
      },
      "source": [
        "m1_df = pd.DataFrame()\n",
        "m1_df['expected'] = y_test\n",
        "m1_df['predicted'] = y_predict"
      ],
      "execution_count": null,
      "outputs": []
    },
    {
      "cell_type": "code",
      "metadata": {
        "colab": {
          "base_uri": "https://localhost:8080/",
          "height": 573
        },
        "id": "jJrhyy8vn-9J",
        "outputId": "e3544211-c95b-40a6-d842-f1c30b74c78b"
      },
      "source": [
        "figure = plt.figure(figsize=(9, 9))\n",
        "axes = sns.scatterplot(data=m1_df, x='expected', y='predicted',\n",
        "                       hue='predicted', palette='cool', legend=False, )\n",
        "start = min(m1_df.expected.min(), m1_df.predicted.min())\n",
        "end = max(m1_df.expected.max(), m1_df.predicted.max())\n",
        "plt.title('Visualizing the Expected vs. Predicted writing Scores. R2: %.2f'\n",
        "      % r2_score(y_test, y_predict))\n",
        "line = plt.plot([start, end], [start, end], 'k--')"
      ],
      "execution_count": null,
      "outputs": [
        {
          "output_type": "display_data",
          "data": {
            "image/png": "[encoded data removed]",
            "text/plain": [
              "<Figure size 648x648 with 1 Axes>"
            ]
          },
          "metadata": {
            "tags": [],
            "needs_background": "light"
          }
        }
      ]
    },
    {
      "cell_type": "code",
      "metadata": {
        "id": "odicWHeZqads"
      },
      "source": [
        "from sklearn.linear_model import ElasticNet, Lasso, Ridge\n",
        "estimators = {\n",
        "'LinearRegression': lm,\n",
        "'ElasticNet': ElasticNet(),\n",
        "'Lasso': Lasso(),\n",
        "'Ridge': Ridge()\n",
        "}"
      ],
      "execution_count": null,
      "outputs": []
    },
    {
      "cell_type": "code",
      "metadata": {
        "colab": {
          "base_uri": "https://localhost:8080/"
        },
        "id": "zca_TCyBfgqS",
        "outputId": "a89b797c-c321-4efa-e702-93b8e871369a"
      },
      "source": [
        "from sklearn.model_selection import KFold, cross_val_score\n",
        "for estimator_name, estimator_object in estimators.items():\n",
        "  kfold = KFold(n_splits=10, random_state=11, shuffle=True)\n",
        "  scores = cross_val_score(estimator=estimator_object,\n",
        "                           X=x, y=y, cv=kfold,\n",
        "                           scoring='r2')\n",
        "  print(f'{estimator_name:>16}: ' +\n",
        "        f'mean of r2 scores={scores.mean():.3f}')"
      ],
      "execution_count": null,
      "outputs": [
        {
          "output_type": "stream",
          "text": [
            "LinearRegression: mean of r2 scores=0.941\n",
            "      ElasticNet: mean of r2 scores=0.912\n",
            "           Lasso: mean of r2 scores=0.909\n",
            "           Ridge: mean of r2 scores=0.941\n"
          ],
          "name": "stdout"
        }
      ]
    }
  ]
}